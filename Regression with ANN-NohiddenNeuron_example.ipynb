{
 "cells": [
  {
   "cell_type": "code",
   "execution_count": 38,
   "id": "218f8cdc",
   "metadata": {},
   "outputs": [],
   "source": [
    "import pandas as pd"
   ]
  },
  {
   "cell_type": "code",
   "execution_count": 39,
   "id": "27b2a0ae",
   "metadata": {},
   "outputs": [],
   "source": [
    "data =  pd.read_csv(\"FuelConsumption.csv\")"
   ]
  },
  {
   "cell_type": "code",
   "execution_count": 40,
   "id": "0c268cf8",
   "metadata": {},
   "outputs": [
    {
     "data": {
      "text/plain": [
       "(1067, 13)"
      ]
     },
     "execution_count": 40,
     "metadata": {},
     "output_type": "execute_result"
    }
   ],
   "source": [
    "data.shape"
   ]
  },
  {
   "cell_type": "code",
   "execution_count": 41,
   "id": "d380f622",
   "metadata": {},
   "outputs": [],
   "source": [
    "data = data.sample(1000)"
   ]
  },
  {
   "cell_type": "code",
   "execution_count": 42,
   "id": "f9019f52",
   "metadata": {},
   "outputs": [
    {
     "data": {
      "text/html": [
       "<div>\n",
       "<style scoped>\n",
       "    .dataframe tbody tr th:only-of-type {\n",
       "        vertical-align: middle;\n",
       "    }\n",
       "\n",
       "    .dataframe tbody tr th {\n",
       "        vertical-align: top;\n",
       "    }\n",
       "\n",
       "    .dataframe thead th {\n",
       "        text-align: right;\n",
       "    }\n",
       "</style>\n",
       "<table border=\"1\" class=\"dataframe\">\n",
       "  <thead>\n",
       "    <tr style=\"text-align: right;\">\n",
       "      <th></th>\n",
       "      <th>MODELYEAR</th>\n",
       "      <th>MAKE</th>\n",
       "      <th>MODEL</th>\n",
       "      <th>VEHICLECLASS</th>\n",
       "      <th>ENGINESIZE</th>\n",
       "      <th>CYLINDERS</th>\n",
       "      <th>TRANSMISSION</th>\n",
       "      <th>FUELTYPE</th>\n",
       "      <th>FUELCONSUMPTION_CITY</th>\n",
       "      <th>FUELCONSUMPTION_HWY</th>\n",
       "      <th>FUELCONSUMPTION_COMB</th>\n",
       "      <th>FUELCONSUMPTION_COMB_MPG</th>\n",
       "      <th>CO2EMISSIONS</th>\n",
       "    </tr>\n",
       "  </thead>\n",
       "  <tbody>\n",
       "    <tr>\n",
       "      <th>481</th>\n",
       "      <td>2014</td>\n",
       "      <td>HONDA</td>\n",
       "      <td>ACCORD</td>\n",
       "      <td>MID-SIZE</td>\n",
       "      <td>2.4</td>\n",
       "      <td>4</td>\n",
       "      <td>AV</td>\n",
       "      <td>X</td>\n",
       "      <td>9.0</td>\n",
       "      <td>6.6</td>\n",
       "      <td>7.9</td>\n",
       "      <td>36</td>\n",
       "      <td>182</td>\n",
       "    </tr>\n",
       "    <tr>\n",
       "      <th>374</th>\n",
       "      <td>2014</td>\n",
       "      <td>FORD</td>\n",
       "      <td>F150 4X4</td>\n",
       "      <td>PICKUP TRUCK - STANDARD</td>\n",
       "      <td>6.2</td>\n",
       "      <td>8</td>\n",
       "      <td>AS6</td>\n",
       "      <td>X</td>\n",
       "      <td>20.1</td>\n",
       "      <td>14.4</td>\n",
       "      <td>17.5</td>\n",
       "      <td>16</td>\n",
       "      <td>402</td>\n",
       "    </tr>\n",
       "  </tbody>\n",
       "</table>\n",
       "</div>"
      ],
      "text/plain": [
       "     MODELYEAR   MAKE     MODEL             VEHICLECLASS  ENGINESIZE  \\\n",
       "481       2014  HONDA    ACCORD                 MID-SIZE         2.4   \n",
       "374       2014   FORD  F150 4X4  PICKUP TRUCK - STANDARD         6.2   \n",
       "\n",
       "     CYLINDERS TRANSMISSION FUELTYPE  FUELCONSUMPTION_CITY  \\\n",
       "481          4           AV        X                   9.0   \n",
       "374          8          AS6        X                  20.1   \n",
       "\n",
       "     FUELCONSUMPTION_HWY  FUELCONSUMPTION_COMB  FUELCONSUMPTION_COMB_MPG  \\\n",
       "481                  6.6                   7.9                        36   \n",
       "374                 14.4                  17.5                        16   \n",
       "\n",
       "     CO2EMISSIONS  \n",
       "481           182  \n",
       "374           402  "
      ]
     },
     "execution_count": 42,
     "metadata": {},
     "output_type": "execute_result"
    }
   ],
   "source": [
    "data.head(2)"
   ]
  },
  {
   "cell_type": "code",
   "execution_count": 43,
   "id": "f2f6a2cf",
   "metadata": {},
   "outputs": [
    {
     "data": {
      "text/plain": [
       "Index(['MODELYEAR', 'MAKE', 'MODEL', 'VEHICLECLASS', 'ENGINESIZE', 'CYLINDERS',\n",
       "       'TRANSMISSION', 'FUELTYPE', 'FUELCONSUMPTION_CITY',\n",
       "       'FUELCONSUMPTION_HWY', 'FUELCONSUMPTION_COMB',\n",
       "       'FUELCONSUMPTION_COMB_MPG', 'CO2EMISSIONS'],\n",
       "      dtype='object')"
      ]
     },
     "execution_count": 43,
     "metadata": {},
     "output_type": "execute_result"
    }
   ],
   "source": [
    "data.columns"
   ]
  },
  {
   "cell_type": "code",
   "execution_count": 44,
   "id": "61a621d2",
   "metadata": {},
   "outputs": [],
   "source": [
    "data = data[['ENGINESIZE', 'CYLINDERS','FUELCONSUMPTION_COMB','CO2EMISSIONS']]"
   ]
  },
  {
   "cell_type": "code",
   "execution_count": 45,
   "id": "3987fcbd",
   "metadata": {},
   "outputs": [
    {
     "data": {
      "text/html": [
       "<div>\n",
       "<style scoped>\n",
       "    .dataframe tbody tr th:only-of-type {\n",
       "        vertical-align: middle;\n",
       "    }\n",
       "\n",
       "    .dataframe tbody tr th {\n",
       "        vertical-align: top;\n",
       "    }\n",
       "\n",
       "    .dataframe thead th {\n",
       "        text-align: right;\n",
       "    }\n",
       "</style>\n",
       "<table border=\"1\" class=\"dataframe\">\n",
       "  <thead>\n",
       "    <tr style=\"text-align: right;\">\n",
       "      <th></th>\n",
       "      <th>ENGINESIZE</th>\n",
       "      <th>CYLINDERS</th>\n",
       "      <th>FUELCONSUMPTION_COMB</th>\n",
       "      <th>CO2EMISSIONS</th>\n",
       "    </tr>\n",
       "  </thead>\n",
       "  <tbody>\n",
       "    <tr>\n",
       "      <th>481</th>\n",
       "      <td>2.4</td>\n",
       "      <td>4</td>\n",
       "      <td>7.9</td>\n",
       "      <td>182</td>\n",
       "    </tr>\n",
       "    <tr>\n",
       "      <th>374</th>\n",
       "      <td>6.2</td>\n",
       "      <td>8</td>\n",
       "      <td>17.5</td>\n",
       "      <td>402</td>\n",
       "    </tr>\n",
       "  </tbody>\n",
       "</table>\n",
       "</div>"
      ],
      "text/plain": [
       "     ENGINESIZE  CYLINDERS  FUELCONSUMPTION_COMB  CO2EMISSIONS\n",
       "481         2.4          4                   7.9           182\n",
       "374         6.2          8                  17.5           402"
      ]
     },
     "execution_count": 45,
     "metadata": {},
     "output_type": "execute_result"
    }
   ],
   "source": [
    "data.head(2)"
   ]
  },
  {
   "cell_type": "code",
   "execution_count": 46,
   "id": "0b47bb18",
   "metadata": {},
   "outputs": [],
   "source": [
    "X = data.drop(['CO2EMISSIONS'],axis = 1).values"
   ]
  },
  {
   "cell_type": "code",
   "execution_count": 47,
   "id": "66b2448c",
   "metadata": {},
   "outputs": [
    {
     "data": {
      "text/plain": [
       "array([[ 2.4,  4. ,  7.9],\n",
       "       [ 6.2,  8. , 17.5],\n",
       "       [ 5.3,  8. , 18.4],\n",
       "       ...,\n",
       "       [ 3.5,  6. , 11. ],\n",
       "       [ 3.5,  6. , 11.5],\n",
       "       [ 3. ,  6. , 11. ]])"
      ]
     },
     "execution_count": 47,
     "metadata": {},
     "output_type": "execute_result"
    }
   ],
   "source": [
    "X"
   ]
  },
  {
   "cell_type": "code",
   "execution_count": 48,
   "id": "6836e703",
   "metadata": {},
   "outputs": [],
   "source": [
    "y = data['CO2EMISSIONS'].values"
   ]
  },
  {
   "cell_type": "code",
   "execution_count": 49,
   "id": "f42ceed0",
   "metadata": {},
   "outputs": [],
   "source": [
    "from sklearn.model_selection import train_test_split\n"
   ]
  },
  {
   "cell_type": "code",
   "execution_count": 50,
   "id": "e30ef4c5",
   "metadata": {},
   "outputs": [],
   "source": [
    "x_train,x_test,y_train,y_test = train_test_split(X,y, test_size=0.2, random_state=50)"
   ]
  },
  {
   "cell_type": "code",
   "execution_count": 51,
   "id": "9d0ae680",
   "metadata": {},
   "outputs": [
    {
     "data": {
      "text/plain": [
       "(800, 3)"
      ]
     },
     "execution_count": 51,
     "metadata": {},
     "output_type": "execute_result"
    }
   ],
   "source": [
    "x_train.shape"
   ]
  },
  {
   "cell_type": "code",
   "execution_count": 52,
   "id": "b9d37624",
   "metadata": {},
   "outputs": [
    {
     "data": {
      "text/plain": [
       "40.0"
      ]
     },
     "execution_count": 52,
     "metadata": {},
     "output_type": "execute_result"
    }
   ],
   "source": [
    "800 / 20"
   ]
  },
  {
   "cell_type": "code",
   "execution_count": null,
   "id": "6afddc19",
   "metadata": {},
   "outputs": [],
   "source": []
  },
  {
   "cell_type": "code",
   "execution_count": 53,
   "id": "b9c42c18",
   "metadata": {},
   "outputs": [
    {
     "data": {
      "text/plain": [
       "42.65"
      ]
     },
     "execution_count": 53,
     "metadata": {},
     "output_type": "execute_result"
    }
   ],
   "source": [
    "853 / 20"
   ]
  },
  {
   "cell_type": "code",
   "execution_count": 54,
   "id": "e6913f18",
   "metadata": {},
   "outputs": [],
   "source": [
    "from tensorflow.keras.models import Sequential"
   ]
  },
  {
   "cell_type": "code",
   "execution_count": 55,
   "id": "e4eb3d4a",
   "metadata": {},
   "outputs": [],
   "source": [
    "model = Sequential() #brain with out neuron"
   ]
  },
  {
   "cell_type": "code",
   "execution_count": 56,
   "id": "5e9e5023",
   "metadata": {},
   "outputs": [],
   "source": [
    "from tensorflow.keras.layers import Dense"
   ]
  },
  {
   "cell_type": "code",
   "execution_count": 57,
   "id": "01b08a24",
   "metadata": {},
   "outputs": [],
   "source": [
    "#input layer neurons"
   ]
  },
  {
   "cell_type": "code",
   "execution_count": 58,
   "id": "84eb35fe",
   "metadata": {},
   "outputs": [],
   "source": [
    "model.add(Dense(3, activation='relu',input_shape = (3,))) #input layer \n",
    "#number of neurons, activation_func, input_shape = number of independent var"
   ]
  },
  {
   "cell_type": "code",
   "execution_count": 59,
   "id": "d843d68f",
   "metadata": {},
   "outputs": [],
   "source": [
    "#hidden layer neruon\n",
    "#model.add(Dense(500, activation='relu')) #h1\n",
    "#model.add(Dense(700, activation='relu')) #h2\n",
    "#model.add(Dense(252, activation='relu')) #h3"
   ]
  },
  {
   "cell_type": "code",
   "execution_count": 60,
   "id": "9dfcad8a",
   "metadata": {},
   "outputs": [],
   "source": [
    "#output layer neuron\n",
    "model.add(Dense(1)) #without activation function becuase it is regresssion problem "
   ]
  },
  {
   "cell_type": "code",
   "execution_count": 61,
   "id": "144383f4",
   "metadata": {},
   "outputs": [],
   "source": [
    "model.compile(optimizer='adam', loss = 'mean_squared_error') \n",
    "#optimizer - adam \n",
    "# loss mean_squared_error or we can use mean_absolute_error"
   ]
  },
  {
   "cell_type": "code",
   "execution_count": 62,
   "id": "3840e22d",
   "metadata": {},
   "outputs": [
    {
     "name": "stdout",
     "output_type": "stream",
     "text": [
      "Epoch 1/100\n",
      "40/40 [==============================] - 0s 1ms/step - loss: 68529.6719\n",
      "Epoch 2/100\n",
      "40/40 [==============================] - 0s 1ms/step - loss: 67880.6797\n",
      "Epoch 3/100\n",
      "40/40 [==============================] - 0s 2ms/step - loss: 67187.0625\n",
      "Epoch 4/100\n",
      "40/40 [==============================] - 0s 2ms/step - loss: 66439.8672\n",
      "Epoch 5/100\n",
      "40/40 [==============================] - 0s 3ms/step - loss: 65627.9141\n",
      "Epoch 6/100\n",
      "40/40 [==============================] - 0s 2ms/step - loss: 64760.6016\n",
      "Epoch 7/100\n",
      "40/40 [==============================] - 0s 2ms/step - loss: 63828.4492\n",
      "Epoch 8/100\n",
      "40/40 [==============================] - 0s 2ms/step - loss: 62835.5156\n",
      "Epoch 9/100\n",
      "40/40 [==============================] - 0s 3ms/step - loss: 61785.9648\n",
      "Epoch 10/100\n",
      "40/40 [==============================] - 0s 3ms/step - loss: 60686.0352\n",
      "Epoch 11/100\n",
      "40/40 [==============================] - 0s 3ms/step - loss: 59519.7461\n",
      "Epoch 12/100\n",
      "40/40 [==============================] - 0s 2ms/step - loss: 58308.9219\n",
      "Epoch 13/100\n",
      "40/40 [==============================] - 0s 4ms/step - loss: 57046.6211\n",
      "Epoch 14/100\n",
      "40/40 [==============================] - 0s 2ms/step - loss: 55746.5898\n",
      "Epoch 15/100\n",
      "40/40 [==============================] - 0s 2ms/step - loss: 54394.3086\n",
      "Epoch 16/100\n",
      "40/40 [==============================] - 0s 4ms/step - loss: 53010.7266\n",
      "Epoch 17/100\n",
      "40/40 [==============================] - 0s 9ms/step - loss: 51581.6836\n",
      "Epoch 18/100\n",
      "40/40 [==============================] - 0s 7ms/step - loss: 50130.1445\n",
      "Epoch 19/100\n",
      "40/40 [==============================] - 0s 9ms/step - loss: 48651.9414\n",
      "Epoch 20/100\n",
      "40/40 [==============================] - 0s 9ms/step - loss: 47144.7695\n",
      "Epoch 21/100\n",
      "40/40 [==============================] - 0s 5ms/step - loss: 45616.3750\n",
      "Epoch 22/100\n",
      "40/40 [==============================] - 0s 8ms/step - loss: 44078.3242\n",
      "Epoch 23/100\n",
      "40/40 [==============================] - 0s 6ms/step - loss: 42528.5000\n",
      "Epoch 24/100\n",
      "40/40 [==============================] - 0s 4ms/step - loss: 40964.6250\n",
      "Epoch 25/100\n",
      "40/40 [==============================] - 0s 6ms/step - loss: 39402.0430\n",
      "Epoch 26/100\n",
      "40/40 [==============================] - 0s 5ms/step - loss: 37840.8555\n",
      "Epoch 27/100\n",
      "40/40 [==============================] - 0s 2ms/step - loss: 36278.1367\n",
      "Epoch 28/100\n",
      "40/40 [==============================] - 0s 7ms/step - loss: 34731.8242\n",
      "Epoch 29/100\n",
      "40/40 [==============================] - 0s 4ms/step - loss: 33191.5000\n",
      "Epoch 30/100\n",
      "40/40 [==============================] - 0s 4ms/step - loss: 31668.7773\n",
      "Epoch 31/100\n",
      "40/40 [==============================] - 0s 7ms/step - loss: 30161.3477\n",
      "Epoch 32/100\n",
      "40/40 [==============================] - 0s 3ms/step - loss: 28684.9434\n",
      "Epoch 33/100\n",
      "40/40 [==============================] - 0s 3ms/step - loss: 27221.4473\n",
      "Epoch 34/100\n",
      "40/40 [==============================] - 0s 5ms/step - loss: 25793.5879\n",
      "Epoch 35/100\n",
      "40/40 [==============================] - 0s 6ms/step - loss: 24398.2754\n",
      "Epoch 36/100\n",
      "40/40 [==============================] - 0s 3ms/step - loss: 23026.8594\n",
      "Epoch 37/100\n",
      "40/40 [==============================] - 0s 9ms/step - loss: 21696.3457\n",
      "Epoch 38/100\n",
      "40/40 [==============================] - 0s 10ms/step - loss: 20409.4180\n",
      "Epoch 39/100\n",
      "40/40 [==============================] - 0s 5ms/step - loss: 19149.7031\n",
      "Epoch 40/100\n",
      "40/40 [==============================] - 0s 7ms/step - loss: 17941.0430\n",
      "Epoch 41/100\n",
      "40/40 [==============================] - 0s 6ms/step - loss: 16770.4844\n",
      "Epoch 42/100\n",
      "40/40 [==============================] - 0s 2ms/step - loss: 15645.6348\n",
      "Epoch 43/100\n",
      "40/40 [==============================] - 0s 2ms/step - loss: 14568.2686\n",
      "Epoch 44/100\n",
      "40/40 [==============================] - 0s 3ms/step - loss: 13530.9961\n",
      "Epoch 45/100\n",
      "40/40 [==============================] - 0s 3ms/step - loss: 12549.1133\n",
      "Epoch 46/100\n",
      "40/40 [==============================] - 0s 3ms/step - loss: 11606.3701\n",
      "Epoch 47/100\n",
      "40/40 [==============================] - 0s 2ms/step - loss: 10716.3184\n",
      "Epoch 48/100\n",
      "40/40 [==============================] - 0s 7ms/step - loss: 9873.5039\n",
      "Epoch 49/100\n",
      "40/40 [==============================] - 0s 10ms/step - loss: 9075.1914\n",
      "Epoch 50/100\n",
      "40/40 [==============================] - 0s 4ms/step - loss: 8325.9961\n",
      "Epoch 51/100\n",
      "40/40 [==============================] - 0s 2ms/step - loss: 7622.2144\n",
      "Epoch 52/100\n",
      "40/40 [==============================] - 0s 4ms/step - loss: 6964.3711\n",
      "Epoch 53/100\n",
      "40/40 [==============================] - 0s 3ms/step - loss: 6350.6338\n",
      "Epoch 54/100\n",
      "40/40 [==============================] - 0s 2ms/step - loss: 5780.8057\n",
      "Epoch 55/100\n",
      "40/40 [==============================] - 0s 3ms/step - loss: 5255.3423\n",
      "Epoch 56/100\n",
      "40/40 [==============================] - 0s 2ms/step - loss: 4767.1841\n",
      "Epoch 57/100\n",
      "40/40 [==============================] - 0s 3ms/step - loss: 4319.9448\n",
      "Epoch 58/100\n",
      "40/40 [==============================] - 0s 3ms/step - loss: 3910.7966\n",
      "Epoch 59/100\n",
      "40/40 [==============================] - 0s 3ms/step - loss: 3538.2769\n",
      "Epoch 60/100\n",
      "40/40 [==============================] - 0s 3ms/step - loss: 3198.1135\n",
      "Epoch 61/100\n",
      "40/40 [==============================] - 0s 2ms/step - loss: 2892.4233\n",
      "Epoch 62/100\n",
      "40/40 [==============================] - 0s 1ms/step - loss: 2613.8296\n",
      "Epoch 63/100\n",
      "40/40 [==============================] - 0s 2ms/step - loss: 2366.3301\n",
      "Epoch 64/100\n",
      "40/40 [==============================] - 0s 3ms/step - loss: 2144.7310\n",
      "Epoch 65/100\n",
      "40/40 [==============================] - 0s 2ms/step - loss: 1947.8894\n",
      "Epoch 66/100\n",
      "40/40 [==============================] - 0s 3ms/step - loss: 1773.5641\n",
      "Epoch 67/100\n",
      "40/40 [==============================] - 0s 3ms/step - loss: 1618.8945\n",
      "Epoch 68/100\n",
      "40/40 [==============================] - 0s 2ms/step - loss: 1484.7026\n",
      "Epoch 69/100\n",
      "40/40 [==============================] - 0s 2ms/step - loss: 1367.7711\n",
      "Epoch 70/100\n",
      "40/40 [==============================] - 0s 3ms/step - loss: 1264.1759\n",
      "Epoch 71/100\n",
      "40/40 [==============================] - 0s 1ms/step - loss: 1176.7380\n",
      "Epoch 72/100\n",
      "40/40 [==============================] - 0s 2ms/step - loss: 1100.6160\n",
      "Epoch 73/100\n",
      "40/40 [==============================] - 0s 3ms/step - loss: 1036.4662\n",
      "Epoch 74/100\n",
      "40/40 [==============================] - 0s 2ms/step - loss: 980.7988\n",
      "Epoch 75/100\n",
      "40/40 [==============================] - 0s 2ms/step - loss: 934.3903\n",
      "Epoch 76/100\n",
      "40/40 [==============================] - 0s 2ms/step - loss: 894.5718\n",
      "Epoch 77/100\n",
      "40/40 [==============================] - 0s 2ms/step - loss: 862.6164\n",
      "Epoch 78/100\n",
      "40/40 [==============================] - 0s 3ms/step - loss: 834.6152\n",
      "Epoch 79/100\n",
      "40/40 [==============================] - 0s 3ms/step - loss: 812.3488\n",
      "Epoch 80/100\n",
      "40/40 [==============================] - 0s 6ms/step - loss: 793.4199\n",
      "Epoch 81/100\n",
      "40/40 [==============================] - 0s 5ms/step - loss: 778.3922\n",
      "Epoch 82/100\n",
      "40/40 [==============================] - 0s 5ms/step - loss: 765.9680\n",
      "Epoch 83/100\n",
      "40/40 [==============================] - 0s 6ms/step - loss: 755.9578\n",
      "Epoch 84/100\n",
      "40/40 [==============================] - 0s 6ms/step - loss: 748.0038\n",
      "Epoch 85/100\n",
      "40/40 [==============================] - 0s 4ms/step - loss: 741.4761\n",
      "Epoch 86/100\n",
      "40/40 [==============================] - 0s 6ms/step - loss: 736.4666\n",
      "Epoch 87/100\n",
      "40/40 [==============================] - 0s 6ms/step - loss: 732.3022\n",
      "Epoch 88/100\n",
      "40/40 [==============================] - 0s 5ms/step - loss: 729.1334\n",
      "Epoch 89/100\n",
      "40/40 [==============================] - 0s 6ms/step - loss: 726.5977\n",
      "Epoch 90/100\n",
      "40/40 [==============================] - 0s 6ms/step - loss: 724.7226\n",
      "Epoch 91/100\n",
      "40/40 [==============================] - 0s 6ms/step - loss: 723.0378\n",
      "Epoch 92/100\n",
      "40/40 [==============================] - 0s 4ms/step - loss: 721.9685\n",
      "Epoch 93/100\n",
      "40/40 [==============================] - 0s 4ms/step - loss: 720.9166\n",
      "Epoch 94/100\n",
      "40/40 [==============================] - 0s 7ms/step - loss: 720.6747\n",
      "Epoch 95/100\n",
      "40/40 [==============================] - 0s 6ms/step - loss: 719.4785\n",
      "Epoch 96/100\n",
      "40/40 [==============================] - 0s 4ms/step - loss: 719.1555\n",
      "Epoch 97/100\n",
      "40/40 [==============================] - 0s 9ms/step - loss: 718.6426\n",
      "Epoch 98/100\n"
     ]
    },
    {
     "name": "stdout",
     "output_type": "stream",
     "text": [
      "40/40 [==============================] - 0s 4ms/step - loss: 718.3649\n",
      "Epoch 99/100\n",
      "40/40 [==============================] - 0s 4ms/step - loss: 718.0333\n",
      "Epoch 100/100\n",
      "40/40 [==============================] - 0s 6ms/step - loss: 717.8284\n"
     ]
    },
    {
     "data": {
      "text/plain": [
       "<keras.callbacks.History at 0x22059391f40>"
      ]
     },
     "execution_count": 62,
     "metadata": {},
     "output_type": "execute_result"
    }
   ],
   "source": [
    "model.fit(x_train,y_train, epochs = 100, batch_size = 20) #passing indvar, dependentVar, epochs, batch_size"
   ]
  },
  {
   "cell_type": "code",
   "execution_count": 63,
   "id": "d44d9ad4",
   "metadata": {},
   "outputs": [
    {
     "name": "stdout",
     "output_type": "stream",
     "text": [
      "7/7 [==============================] - 0s 1ms/step\n"
     ]
    },
    {
     "data": {
      "text/plain": [
       "0.7983976538766678"
      ]
     },
     "execution_count": 63,
     "metadata": {},
     "output_type": "execute_result"
    }
   ],
   "source": [
    "y_pred = model.predict(x_test)\n",
    "from sklearn.metrics import r2_score\n",
    "r2_score(y_test,y_pred)"
   ]
  },
  {
   "cell_type": "code",
   "execution_count": null,
   "id": "67f425ce",
   "metadata": {},
   "outputs": [],
   "source": []
  }
 ],
 "metadata": {
  "kernelspec": {
   "display_name": "Python 3 (ipykernel)",
   "language": "python",
   "name": "python3"
  },
  "language_info": {
   "codemirror_mode": {
    "name": "ipython",
    "version": 3
   },
   "file_extension": ".py",
   "mimetype": "text/x-python",
   "name": "python",
   "nbconvert_exporter": "python",
   "pygments_lexer": "ipython3",
   "version": "3.9.13"
  }
 },
 "nbformat": 4,
 "nbformat_minor": 5
}
